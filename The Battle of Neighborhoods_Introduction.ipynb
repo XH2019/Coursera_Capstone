{
 "cells": [
  {
   "cell_type": "markdown",
   "metadata": {},
   "source": [
    "<h1 align=center><font size = 5>Explore Chinese Restaurants in New York City</font></h1>"
   ]
  },
  {
   "cell_type": "markdown",
   "metadata": {},
   "source": [
    "## Introduction\n",
    "\n",
    "The City of New York, usually called either **New York City (NYC)** or simply **New York (NY)**, is the most populous city in the United States.\n",
    "New York City consists of five boroughs, each of which is a separate county of the State of New York. The five boroughs – Brooklyn, Queens, Manhattan, The Bronx, and Staten Island – were consolidated into a single city in 1898. The city and its metropolitan area constitute the premier gateway for legal immigration to the United States. As many as 800 languages are spoken in New York, making it the most linguistically diverse city in the world. New York City is home to more than 3.2 million residents born outside the United States, the largest foreign-born population of any city in the world.\n",
    "\n",
    "New York City has the largest Chinese population of any city outside of Asia and within the U.S. with an estimated population of 573,388 in 2014  and continues to be a primary destination for new Chinese immigrants. New York City is subdivided into official municipal boroughs, which themselves are home to significant Chinese populations, with Brooklyn and Queens, adjacently located on Long Island, leading the fastest growth. After the City of New York itself, the boroughs of Queens and Brooklyn encompass the largest Chinese populations, respectively, of all municipalities in the United States.\n",
    "\n",
    "So in this project , I will list and visualize all major parts of New York City that has great Chinese restaurants. People who want to run Chinese restaurant business should benefit from it."
   ]
  }
 ],
 "metadata": {
  "kernelspec": {
   "display_name": "Python 3",
   "language": "python",
   "name": "python3"
  },
  "language_info": {
   "codemirror_mode": {
    "name": "ipython",
    "version": 3
   },
   "file_extension": ".py",
   "mimetype": "text/x-python",
   "name": "python",
   "nbconvert_exporter": "python",
   "pygments_lexer": "ipython3",
   "version": "3.6.8"
  }
 },
 "nbformat": 4,
 "nbformat_minor": 2
}
