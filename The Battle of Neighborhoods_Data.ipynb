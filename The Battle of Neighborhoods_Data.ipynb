{
 "cells": [
  {
   "cell_type": "markdown",
   "metadata": {},
   "source": [
    "<h1 align=center><font size = 5>Explore Chinese Restaurants in New York City</font></h1>"
   ]
  },
  {
   "cell_type": "markdown",
   "metadata": {},
   "source": [
    "## Data\n",
    "\n",
    "The following data will be used in the analysis:\n",
    "\n",
    "- New York City data that contains list Boroughs, Neighborhoods along with their latitude and longitude.\n",
    "     - Data source: https://cocl.us/new_york_dataset\n",
    "     - Description: This dataset contains the 5 boroughs and the neighborhoods that exist in each borough as well as the the latitude and logitude coordinates of each neighborhood.\n",
    "\n",
    "\n",
    "- Chinese restaurants in each neighborhood of NYC.\n",
    "     - Data source: Foursquare API\n",
    "     - Description: Start utilizing the Foursquare API to explore the neighborhoods and get Chinese restaurants in each neighborhood.\n",
    " \n",
    " \n",
    "- GeoSpace data\n",
    "     - Data source: https://data.cityofnewyork.us/City-Government/Borough-Boundaries/tqmj-j8zm\n",
    "     - Description: By using this geo space data we will get the New york Borough boundaries that will help us visualize choropleth map. "
   ]
  },
  {
   "cell_type": "code",
   "execution_count": null,
   "metadata": {},
   "outputs": [],
   "source": []
  }
 ],
 "metadata": {
  "kernelspec": {
   "display_name": "Python 3",
   "language": "python",
   "name": "python3"
  },
  "language_info": {
   "codemirror_mode": {
    "name": "ipython",
    "version": 3
   },
   "file_extension": ".py",
   "mimetype": "text/x-python",
   "name": "python",
   "nbconvert_exporter": "python",
   "pygments_lexer": "ipython3",
   "version": "3.6.8"
  }
 },
 "nbformat": 4,
 "nbformat_minor": 2
}
